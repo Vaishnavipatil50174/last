{
 "cells": [
  {
   "cell_type": "markdown",
   "metadata": {},
   "source": [
    "Design RNN or its variant including LSTM or GRU a) Select a\n",
    "suitable time series dataset. Example – predict sentiments based on\n",
    "product reviews b) Apply for predict "
   ]
  },
  {
   "cell_type": "code",
   "execution_count": 1,
   "metadata": {},
   "outputs": [],
   "source": [
    "import tensorflow as tf\n",
    "from tensorflow.keras.datasets import imdb \n",
    "from tensorflow.keras.models import Sequential\n",
    "from tensorflow.keras.layers import Embedding, LSTM, Dense\n",
    "from tensorflow.keras.preprocessing.sequence import pad_sequences"
   ]
  },
  {
   "cell_type": "code",
   "execution_count": 2,
   "metadata": {},
   "outputs": [],
   "source": [
    "max_features = 10000 # Number of words to consider as features\n",
    "maxlen = 100 # Cut texts after this number of words (among top max_features most common words)\n",
    "batch_size = 32"
   ]
  },
  {
   "cell_type": "code",
   "execution_count": 3,
   "metadata": {},
   "outputs": [],
   "source": [
    "(x_train, y_train), (x_test, y_test) = imdb.load_data(num_words=max_features)"
   ]
  },
  {
   "cell_type": "code",
   "execution_count": 4,
   "metadata": {},
   "outputs": [],
   "source": [
    "x_train = pad_sequences(x_train, maxlen=maxlen) \n",
    "x_test = pad_sequences(x_test, maxlen=maxlen)\n",
    "# Build the RNN model with LSTM \n",
    "model = Sequential()\n",
    "model.add(Embedding(max_features, 128)) \n",
    "model.add(LSTM(64, dropout=0.2, recurrent_dropout=0.2)) \n",
    "model.add(Dense(1, activation='sigmoid'))\n"
   ]
  },
  {
   "cell_type": "code",
   "execution_count": 5,
   "metadata": {},
   "outputs": [
    {
     "name": "stdout",
     "output_type": "stream",
     "text": [
      "Epoch 1/5\n",
      "\u001b[1m782/782\u001b[0m \u001b[32m━━━━━━━━━━━━━━━━━━━━\u001b[0m\u001b[37m\u001b[0m \u001b[1m115s\u001b[0m 135ms/step - accuracy: 0.7280 - loss: 0.5290 - val_accuracy: 0.8160 - val_loss: 0.4117\n",
      "Epoch 2/5\n",
      "\u001b[1m782/782\u001b[0m \u001b[32m━━━━━━━━━━━━━━━━━━━━\u001b[0m\u001b[37m\u001b[0m \u001b[1m137s\u001b[0m 175ms/step - accuracy: 0.8671 - loss: 0.3242 - val_accuracy: 0.8304 - val_loss: 0.3941\n",
      "Epoch 3/5\n",
      "\u001b[1m782/782\u001b[0m \u001b[32m━━━━━━━━━━━━━━━━━━━━\u001b[0m\u001b[37m\u001b[0m \u001b[1m128s\u001b[0m 164ms/step - accuracy: 0.8927 - loss: 0.2671 - val_accuracy: 0.8430 - val_loss: 0.3676\n",
      "Epoch 4/5\n",
      "\u001b[1m782/782\u001b[0m \u001b[32m━━━━━━━━━━━━━━━━━━━━\u001b[0m\u001b[37m\u001b[0m \u001b[1m131s\u001b[0m 167ms/step - accuracy: 0.9172 - loss: 0.2088 - val_accuracy: 0.8337 - val_loss: 0.4160\n",
      "Epoch 5/5\n",
      "\u001b[1m782/782\u001b[0m \u001b[32m━━━━━━━━━━━━━━━━━━━━\u001b[0m\u001b[37m\u001b[0m \u001b[1m131s\u001b[0m 168ms/step - accuracy: 0.9400 - loss: 0.1623 - val_accuracy: 0.8393 - val_loss: 0.4709\n",
      "\u001b[1m782/782\u001b[0m \u001b[32m━━━━━━━━━━━━━━━━━━━━\u001b[0m\u001b[37m\u001b[0m \u001b[1m36s\u001b[0m 46ms/step - accuracy: 0.8402 - loss: 0.4758\n",
      "Test score: 0.47091156244277954\n",
      "Test accuracy: 0.8393200039863586\n"
     ]
    }
   ],
   "source": [
    "# Compile the model \n",
    "model.compile(loss='binary_crossentropy',optimizer='adam', metrics=['accuracy'])\n",
    "# Train the model \n",
    "model.fit(x_train, y_train,batch_size=batch_size, epochs=5, validation_data=(x_test, y_test))\n",
    "# Evaluate the model\n",
    "score, acc = model.evaluate(x_test, y_test, batch_size=batch_size) \n",
    "print(f'Test score: {score}')\n",
    "print(f'Test accuracy: {acc}')"
   ]
  },
  {
   "cell_type": "code",
   "execution_count": 6,
   "metadata": {},
   "outputs": [
    {
     "name": "stdout",
     "output_type": "stream",
     "text": [
      "test accuracy : 0.8393200039863586 \n",
      "test-score :0.47091156244277954 \n"
     ]
    }
   ],
   "source": [
    "print(f'test accuracy : {acc} ')\n",
    "print(f'test-score :{score} ')"
   ]
  },
  {
   "cell_type": "code",
   "execution_count": 7,
   "metadata": {},
   "outputs": [
    {
     "data": {
      "image/png": "[encoded data removed]",
      "text/plain": [
       "<Figure size 432x288 with 1 Axes>"
      ]
     },
     "metadata": {
      "needs_background": "light"
     },
     "output_type": "display_data"
    }
   ],
   "source": [
    "import matplotlib.pyplot as plt\n",
    "\n",
    "# Summarize class distribution\n",
    "positive = sum(y_test)\n",
    "negative = len(y_test) - positive\n",
    "\n",
    "# Create a bar plot\n",
    "plt.bar(['Positive', 'Negative'], [positive, negative], color=['blue', 'red'])\n",
    "plt.xlabel('Sentiment')\n",
    "plt.ylabel('Number of Reviews')\n",
    "plt.title('Distribution of Sentiments in Reviews')\n",
    "plt.show()\n"
   ]
  },
  {
   "cell_type": "code",
   "execution_count": null,
   "metadata": {},
   "outputs": [],
   "source": []
  }
 ],
 "metadata": {
  "kernelspec": {
   "display_name": "Python 3",
   "language": "python",
   "name": "python3"
  },
  "language_info": {
   "codemirror_mode": {
    "name": "ipython",
    "version": 3
   },
   "file_extension": ".py",
   "mimetype": "text/x-python",
   "name": "python",
   "nbconvert_exporter": "python",
   "pygments_lexer": "ipython3",
   "version": "3.9.16"
  }
 },
 "nbformat": 4,
 "nbformat_minor": 2
}
